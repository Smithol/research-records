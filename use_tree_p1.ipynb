{
 "cells": [
  {
   "cell_type": "code",
   "execution_count": 1,
   "metadata": {},
   "outputs": [],
   "source": [
    "from tree_sitter import Language, Parser\n",
    "import sys\n",
    "import logging\n",
    "from pathlib import Path\n",
    "from pathlib import Path\n",
    "#logging config\n",
    "logging.basicConfig(level=logging.DEBUG,\n",
    "                    format=\"%(asctime)s %(name)s %(levelname)s %(message)s\",\n",
    "                    datefmt = '%Y-%m-%d  %H:%M:%S %a'    #注意月份和天数不要搞乱了，这里的格式化符与time模块相同\n",
    "                    )\n",
    "\n",
    "def my_language(language_name:str):\n",
    "    build_dir = Path('./build')\n",
    "    #reference:https://zhuanlan.zhihu.com/p/139783331\n",
    "    language_vocabulary = list(build_dir.glob('*.so'))\n",
    "    language_vocabulary = [x.stem for x in language_vocabulary]\n",
    "    if language_name in language_vocabulary:\n",
    "        language_file = r'{}/{}.so'.format(str(build_dir),language_name)\n",
    "    logging.debug(language_file)\n",
    "    #logging.debug(isinstance(language_file,str))\n",
    "\n",
    "    return Language(language_file,language_name)"
   ]
  },
  {
   "cell_type": "code",
   "execution_count": 35,
   "metadata": {},
   "outputs": [
    {
     "ename": "TypeError",
     "evalue": "issubclass() arg 1 must be a class",
     "output_type": "error",
     "traceback": [
      "\u001b[1;31m---------------------------------------------------------------------------\u001b[0m",
      "\u001b[1;31mTypeError\u001b[0m                                 Traceback (most recent call last)",
      "\u001b[1;32mC:\\Users\\ADMINI~1\\AppData\\Local\\Temp/ipykernel_94676/2104115891.py\u001b[0m in \u001b[0;36m<module>\u001b[1;34m\u001b[0m\n\u001b[0;32m      1\u001b[0m \u001b[1;32mfrom\u001b[0m \u001b[0mtreelib\u001b[0m \u001b[1;32mimport\u001b[0m \u001b[0mTree\u001b[0m\u001b[1;33m\u001b[0m\u001b[0m\n\u001b[1;32m----> 2\u001b[1;33m \u001b[0mtree1\u001b[0m \u001b[1;33m=\u001b[0m \u001b[0mTree\u001b[0m\u001b[1;33m(\u001b[0m\u001b[0mnode_class\u001b[0m\u001b[1;33m=\u001b[0m\u001b[1;36m1\u001b[0m\u001b[1;33m)\u001b[0m\u001b[1;33m\u001b[0m\u001b[0m\n\u001b[0m\u001b[0;32m      3\u001b[0m \u001b[1;31m#tree1.create_node (\"E\", 1)\u001b[0m\u001b[1;33m\u001b[0m\u001b[1;33m\u001b[0m\u001b[0m\n\u001b[0;32m      4\u001b[0m \u001b[1;31m# tree1.create_node (\"C\", 2, parent = 1)\u001b[0m\u001b[1;33m\u001b[0m\u001b[1;33m\u001b[0m\u001b[0m\n\u001b[0;32m      5\u001b[0m \u001b[1;31m# tree1.create_node (\"B\", 3, parent = 1)\u001b[0m\u001b[1;33m\u001b[0m\u001b[1;33m\u001b[0m\u001b[0m\n",
      "\u001b[1;32m~\\.conda\\envs\\infer\\lib\\site-packages\\treelib\\tree.py\u001b[0m in \u001b[0;36m__init__\u001b[1;34m(self, tree, deep, node_class, identifier)\u001b[0m\n\u001b[0;32m     91\u001b[0m \u001b[1;33m\u001b[0m\u001b[0m\n\u001b[0;32m     92\u001b[0m         \u001b[1;32mif\u001b[0m \u001b[0mnode_class\u001b[0m\u001b[1;33m:\u001b[0m\u001b[1;33m\u001b[0m\u001b[0m\n\u001b[1;32m---> 93\u001b[1;33m             \u001b[1;32massert\u001b[0m \u001b[0missubclass\u001b[0m\u001b[1;33m(\u001b[0m\u001b[0mnode_class\u001b[0m\u001b[1;33m,\u001b[0m \u001b[0mNode\u001b[0m\u001b[1;33m)\u001b[0m\u001b[1;33m\u001b[0m\u001b[0m\n\u001b[0m\u001b[0;32m     94\u001b[0m             \u001b[0mself\u001b[0m\u001b[1;33m.\u001b[0m\u001b[0mnode_class\u001b[0m \u001b[1;33m=\u001b[0m \u001b[0mnode_class\u001b[0m\u001b[1;33m\u001b[0m\u001b[0m\n\u001b[0;32m     95\u001b[0m \u001b[1;33m\u001b[0m\u001b[0m\n",
      "\u001b[1;31mTypeError\u001b[0m: issubclass() arg 1 must be a class"
     ]
    }
   ],
   "source": [
    "from treelib import Tree\n",
    "tree1 = Tree(node_class=1)\n",
    "#tree1.create_node (\"E\", 1)\n",
    "# tree1.create_node (\"C\", 2, parent = 1)\n",
    "# tree1.create_node (\"B\", 3, parent = 1)\n",
    "# tree1.create_node (\"A\", 4, parent = 1)\n",
    "# tree1.create_node (\"Ban\", '5', parent = 1)\n",
    "\n",
    "tree1.show(idhidden=False)\n"
   ]
  },
  {
   "cell_type": "code",
   "execution_count": 2,
   "metadata": {},
   "outputs": [
    {
     "name": "stdout",
     "output_type": "stream",
     "text": [
      "字典中的key转换为列表： ['class', 'vxzvcxz', 'avhsn', 'cnbvcd', 'rxbvcx', 'jvxcbf']\n",
      "字典中的value转换为列表： [66, 'tntn', 'nnjji', 'fefa', 'fdsa', 'fdsa']\n"
     ]
    }
   ],
   "source": [
    "#import collections\n",
    "#z = collections.OrderedDict()\n",
    "z = {'class':66}\n",
    "z['vxzvcxz'] = 'tntn'\n",
    "z['avhsn'] = 'nnjji'\n",
    "z['cnbvcd'] = 'fefa'\n",
    "z['rxbvcx'] = 'fdsa'\n",
    "z['jvxcbf'] = 'fdsa'\n",
    "#z = collections.OrderedDict(z)\n",
    "#字典中的key转换为列表\n",
    "key_value = list(z.keys())\n",
    "print('字典中的key转换为列表：', key_value)\n",
    " \n",
    "#字典中的value转换为列表\n",
    "value_list = list(z.values())\n",
    "print('字典中的value转换为列表：', value_list)"
   ]
  },
  {
   "cell_type": "code",
   "execution_count": null,
   "metadata": {},
   "outputs": [],
   "source": [
    "'''\n",
    "Author: your name\n",
    "Date: 2021-10-11 15:11:02\n",
    "LastEditTime: 2021-10-11 22:23:45\n",
    "LastEditors: your name\n",
    "Description: In User Settings Edit\n",
    "FilePath: \\tree-sitter-\\use_tree_p1.ipynb\n",
    "'''\n",
    "parser = Parser()\n",
    "parser.set_language(my_language('python'))\n",
    "with open('hs.txt','r',encoding='utf-8') as f:\n",
    "  content = f.read()\n",
    "tree = parser.parse(bytes(content, \"utf8\"))"
   ]
  },
  {
   "cell_type": "code",
   "execution_count": null,
   "metadata": {},
   "outputs": [
    {
     "name": "stdout",
     "output_type": "stream",
     "text": [
      "<tree_sitter.Tree object at 0x000001DBCC0D6588>\n"
     ]
    }
   ],
   "source": [
    "print(tree)"
   ]
  },
  {
   "cell_type": "code",
   "execution_count": null,
   "metadata": {},
   "outputs": [
    {
     "data": {
      "text/plain": [
       "'module'"
      ]
     },
     "execution_count": 11,
     "metadata": {},
     "output_type": "execute_result"
    }
   ],
   "source": [
    "cursor = tree.walk()\n",
    "cursor.node.type\n"
   ]
  },
  {
   "cell_type": "code",
   "execution_count": null,
   "metadata": {},
   "outputs": [
    {
     "data": {
      "text/plain": [
       "str"
      ]
     },
     "execution_count": 14,
     "metadata": {},
     "output_type": "execute_result"
    }
   ],
   "source": [
    "type(cursor.node.type)"
   ]
  }
 ],
 "metadata": {
  "interpreter": {
   "hash": "c060bcafde9023306063864199dc8006de07296567b68d4319d4ea5dcf1516ac"
  },
  "kernelspec": {
   "display_name": "Python 3.7.0 64-bit ('infer': conda)",
   "name": "python3"
  },
  "language_info": {
   "codemirror_mode": {
    "name": "ipython",
    "version": 3
   },
   "file_extension": ".py",
   "mimetype": "text/x-python",
   "name": "python",
   "nbconvert_exporter": "python",
   "pygments_lexer": "ipython3",
   "version": "3.7.0"
  },
  "orig_nbformat": 4
 },
 "nbformat": 4,
 "nbformat_minor": 2
}
