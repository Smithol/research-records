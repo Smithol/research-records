{
 "cells": [
  {
   "cell_type": "code",
   "execution_count": 1,
   "metadata": {},
   "outputs": [],
   "source": [
    "from tree_sitter import Language,Parser\n",
    "GO_LANGUAGE = Language('build/go.so', 'go')\n",
    "JS_LANGUAGE = Language('build/javascript.so', 'javascript')\n",
    "PY_LANGUAGE = Language('build/python.so', 'python')\n",
    "parser = Parser()\n",
    "parser.set_language(PY_LANGUAGE)\n",
    "# tree = parser.parse(bytes(\"\"\"\n",
    "# def foo():\n",
    "#     if bar:\n",
    "#         baz()\"\"\", \"utf8\"))\n",
    "tree = parser.parse(bytes(\"\"\"\n",
    "class BootyBayBodyguard(MinionCard):\n",
    "    def __init__(self):\n",
    "        super().__init__(\"Booty Bay Bodyguard\", 5, CHARACTER_CLASS.ALL, CARD_RARITY.COMMON)\n",
    "\n",
    "    def create_minion(self, player):\n",
    "        return Minion(5, 4, taunt=True)\"\"\", \"utf8\"))\n"
   ]
  },
  {
   "cell_type": "code",
   "execution_count": 11,
   "metadata": {},
   "outputs": [
    {
     "ename": "AttributeError",
     "evalue": "'tree_sitter.Node' object has no attribute 'get'",
     "output_type": "error",
     "traceback": [
      "\u001b[1;31m---------------------------------------------------------------------------\u001b[0m",
      "\u001b[1;31mAttributeError\u001b[0m                            Traceback (most recent call last)",
      "\u001b[1;32mC:\\Users\\ADMINI~1\\AppData\\Local\\Temp/ipykernel_59112/1751226344.py\u001b[0m in \u001b[0;36m<module>\u001b[1;34m\u001b[0m\n\u001b[1;32m----> 1\u001b[1;33m \u001b[0mcursor\u001b[0m\u001b[1;33m.\u001b[0m\u001b[0mnode\u001b[0m\u001b[1;33m.\u001b[0m\u001b[0mget\u001b[0m\u001b[1;33m(\u001b[0m\u001b[1;34m'children'\u001b[0m\u001b[1;33m)\u001b[0m\u001b[1;33m\u001b[0m\u001b[0m\n\u001b[0m",
      "\u001b[1;31mAttributeError\u001b[0m: 'tree_sitter.Node' object has no attribute 'get'"
     ]
    }
   ],
   "source": [
    "cursor.node.get('children')"
   ]
  },
  {
   "cell_type": "code",
   "execution_count": null,
   "metadata": {},
   "outputs": [],
   "source": []
  },
  {
   "cell_type": "code",
   "execution_count": 2,
   "metadata": {},
   "outputs": [
    {
     "name": "stdout",
     "output_type": "stream",
     "text": [
      "(3, 13)\n"
     ]
    }
   ],
   "source": [
    "root_node = tree.root_node\n",
    "assert root_node.type == 'module'\n",
    "assert root_node.start_point == (1, 0)\n",
    "assert root_node.end_point == (3, 13)\n",
    "print(root_node.end_point)\n",
    "function_node = root_node.children[0]\n",
    "assert function_node.type == 'function_definition'\n",
    "assert function_node.child_by_field_name('name').type == 'identifier'\n",
    "\n",
    "function_name_node = function_node.children[1]\n",
    "assert function_name_node.type == 'identifier'\n",
    "assert function_name_node.start_point == (1, 4)\n",
    "assert function_name_node.end_point == (1, 7)\n",
    "\n",
    "assert root_node.sexp() == \"(module \"\\\n",
    "    \"(function_definition \"\\\n",
    "        \"name: (identifier) \"\\\n",
    "        \"parameters: (parameters) \"\\\n",
    "        \"body: (block \"\\\n",
    "            \"(if_statement \"\\\n",
    "                \"condition: (identifier) \"\\\n",
    "                \"consequence: (block \"\\\n",
    "                    \"(expression_statement (call \"\\\n",
    "                        \"function: (identifier) \"\\\n",
    "                        \"arguments: (argument_list))))))))\"\\\n"
   ]
  },
  {
   "cell_type": "code",
   "execution_count": 2,
   "metadata": {},
   "outputs": [],
   "source": [
    "cursor = tree.walk()\n"
   ]
  },
  {
   "cell_type": "code",
   "execution_count": 3,
   "metadata": {},
   "outputs": [
    {
     "data": {
      "text/plain": [
       "['current_field_name',\n",
       " 'goto_parent',\n",
       " 'goto_first_child',\n",
       " 'goto_next_sibling',\n",
       " 'node']"
      ]
     },
     "execution_count": 3,
     "metadata": {},
     "output_type": "execute_result"
    }
   ],
   "source": [
    "[x for x in cursor.__dir__() if x[:2]!='__']"
   ]
  },
  {
   "cell_type": "code",
   "execution_count": 3,
   "metadata": {},
   "outputs": [
    {
     "name": "stdout",
     "output_type": "stream",
     "text": [
      "<Node kind=module, start_point=(1, 0), end_point=(6, 39)>\n",
      "True\n",
      "False\n",
      "True\n",
      "None\n",
      "1\n"
     ]
    }
   ],
   "source": [
    "print(cursor.node)\n",
    "print(cursor.goto_first_child())\n",
    "print(cursor.goto_next_sibling())\n",
    "print(cursor.goto_parent())\n",
    "print(cursor.current_field_name())\n",
    "print(cursor.node.child_count)"
   ]
  },
  {
   "cell_type": "code",
   "execution_count": 5,
   "metadata": {},
   "outputs": [
    {
     "data": {
      "text/plain": [
       "['walk',\n",
       " 'sexp',\n",
       " 'child_by_field_id',\n",
       " 'child_by_field_name',\n",
       " 'type',\n",
       " 'is_named',\n",
       " 'is_missing',\n",
       " 'has_changes',\n",
       " 'has_error',\n",
       " 'start_byte',\n",
       " 'end_byte',\n",
       " 'start_point',\n",
       " 'end_point',\n",
       " 'children',\n",
       " 'child_count',\n",
       " 'named_child_count',\n",
       " 'next_sibling',\n",
       " 'prev_sibling',\n",
       " 'next_named_sibling',\n",
       " 'prev_named_sibling',\n",
       " 'parent']"
      ]
     },
     "execution_count": 5,
     "metadata": {},
     "output_type": "execute_result"
    }
   ],
   "source": [
    "attr = [x for x in cursor.node.__dir__() if x[:2]!='__']\n",
    "#attr = [x for x in cursor.node.__dir__() ]\n",
    "#getattr(cursor.node,attr[1])()\n",
    "attr"
   ]
  },
  {
   "cell_type": "code",
   "execution_count": 3,
   "metadata": {},
   "outputs": [
    {
     "name": "stdout",
     "output_type": "stream",
     "text": [
      "<Node kind=identifier, start_point=(1, 6), end_point=(1, 23)>\n",
      "1\n"
     ]
    }
   ],
   "source": [
    "print(tree.root_node.children[0].children[1])\n",
    "print(tree.root_node.named_child_count)\n"
   ]
  },
  {
   "cell_type": "code",
   "execution_count": 4,
   "metadata": {},
   "outputs": [
    {
     "name": "stdout",
     "output_type": "stream",
     "text": [
      "[[<Node kind=module, start_point=(1, 0), end_point=(6, 39)>, 0]]\n",
      "<class 'tree_sitter.Node'>\n",
      "1\n",
      "module\n",
      "\n"
     ]
    }
   ],
   "source": [
    "from treelib import Tree,Node\n",
    "tree_clone = Tree()\n",
    "tree_id = 0\n",
    "node_id_list = list()\n",
    "tree_clone.create_node(tag=tree.root_node.type,identifier=tree_id,data=tree.root_node)\n",
    "node_id_list.append([tree.root_node,tree_id])\n",
    "print(node_id_list)\n",
    "print(type(node_id_list[0][0]))\n",
    "print(1)\n",
    "tree_clone.show()"
   ]
  },
  {
   "cell_type": "code",
   "execution_count": 5,
   "metadata": {},
   "outputs": [
    {
     "name": "stdout",
     "output_type": "stream",
     "text": [
      "<Node kind=module, start_point=(1, 0), end_point=(6, 39)>\n",
      "<Node kind=class_definition, start_point=(1, 0), end_point=(6, 39)>\n",
      "<Node kind=\"class\", start_point=(1, 0), end_point=(1, 5)>\n",
      "<Node kind=identifier, start_point=(1, 6), end_point=(1, 23)>\n",
      "<Node kind=argument_list, start_point=(1, 23), end_point=(1, 35)>\n",
      "<Node kind=\":\", start_point=(1, 35), end_point=(1, 36)>\n",
      "<Node kind=block, start_point=(2, 4), end_point=(6, 39)>\n",
      "<Node kind=\"(\", start_point=(1, 23), end_point=(1, 24)>\n",
      "<Node kind=identifier, start_point=(1, 24), end_point=(1, 34)>\n",
      "<Node kind=\")\", start_point=(1, 34), end_point=(1, 35)>\n",
      "<Node kind=function_definition, start_point=(2, 4), end_point=(3, 91)>\n",
      "<Node kind=function_definition, start_point=(5, 4), end_point=(6, 39)>\n",
      "<Node kind=\"def\", start_point=(2, 4), end_point=(2, 7)>\n",
      "<Node kind=identifier, start_point=(2, 8), end_point=(2, 16)>\n",
      "<Node kind=parameters, start_point=(2, 16), end_point=(2, 22)>\n",
      "<Node kind=\":\", start_point=(2, 22), end_point=(2, 23)>\n",
      "<Node kind=block, start_point=(3, 8), end_point=(3, 91)>\n",
      "<Node kind=\"def\", start_point=(5, 4), end_point=(5, 7)>\n",
      "<Node kind=identifier, start_point=(5, 8), end_point=(5, 21)>\n",
      "<Node kind=parameters, start_point=(5, 21), end_point=(5, 35)>\n",
      "<Node kind=\":\", start_point=(5, 35), end_point=(5, 36)>\n",
      "<Node kind=block, start_point=(6, 8), end_point=(6, 39)>\n",
      "<Node kind=\"(\", start_point=(2, 16), end_point=(2, 17)>\n",
      "<Node kind=identifier, start_point=(2, 17), end_point=(2, 21)>\n",
      "<Node kind=\")\", start_point=(2, 21), end_point=(2, 22)>\n",
      "<Node kind=expression_statement, start_point=(3, 8), end_point=(3, 91)>\n",
      "<Node kind=\"(\", start_point=(5, 21), end_point=(5, 22)>\n",
      "<Node kind=identifier, start_point=(5, 22), end_point=(5, 26)>\n",
      "<Node kind=\",\", start_point=(5, 26), end_point=(5, 27)>\n",
      "<Node kind=identifier, start_point=(5, 28), end_point=(5, 34)>\n",
      "<Node kind=\")\", start_point=(5, 34), end_point=(5, 35)>\n",
      "<Node kind=return_statement, start_point=(6, 8), end_point=(6, 39)>\n",
      "<Node kind=call, start_point=(3, 8), end_point=(3, 91)>\n",
      "<Node kind=\"return\", start_point=(6, 8), end_point=(6, 14)>\n",
      "<Node kind=call, start_point=(6, 15), end_point=(6, 39)>\n",
      "<Node kind=attribute, start_point=(3, 8), end_point=(3, 24)>\n",
      "<Node kind=argument_list, start_point=(3, 24), end_point=(3, 91)>\n",
      "<Node kind=identifier, start_point=(6, 15), end_point=(6, 21)>\n",
      "<Node kind=argument_list, start_point=(6, 21), end_point=(6, 39)>\n",
      "<Node kind=call, start_point=(3, 8), end_point=(3, 15)>\n",
      "<Node kind=\".\", start_point=(3, 15), end_point=(3, 16)>\n",
      "<Node kind=identifier, start_point=(3, 16), end_point=(3, 24)>\n",
      "<Node kind=\"(\", start_point=(3, 24), end_point=(3, 25)>\n",
      "<Node kind=string, start_point=(3, 25), end_point=(3, 46)>\n",
      "<Node kind=\",\", start_point=(3, 46), end_point=(3, 47)>\n",
      "<Node kind=integer, start_point=(3, 48), end_point=(3, 49)>\n",
      "<Node kind=\",\", start_point=(3, 49), end_point=(3, 50)>\n",
      "<Node kind=attribute, start_point=(3, 51), end_point=(3, 70)>\n",
      "<Node kind=\",\", start_point=(3, 70), end_point=(3, 71)>\n",
      "<Node kind=attribute, start_point=(3, 72), end_point=(3, 90)>\n",
      "<Node kind=\")\", start_point=(3, 90), end_point=(3, 91)>\n",
      "<Node kind=\"(\", start_point=(6, 21), end_point=(6, 22)>\n",
      "<Node kind=integer, start_point=(6, 22), end_point=(6, 23)>\n",
      "<Node kind=\",\", start_point=(6, 23), end_point=(6, 24)>\n",
      "<Node kind=integer, start_point=(6, 25), end_point=(6, 26)>\n",
      "<Node kind=\",\", start_point=(6, 26), end_point=(6, 27)>\n",
      "<Node kind=keyword_argument, start_point=(6, 28), end_point=(6, 38)>\n",
      "<Node kind=\")\", start_point=(6, 38), end_point=(6, 39)>\n",
      "<Node kind=identifier, start_point=(3, 8), end_point=(3, 13)>\n",
      "<Node kind=argument_list, start_point=(3, 13), end_point=(3, 15)>\n",
      "<Node kind=\"\"\", start_point=(3, 25), end_point=(3, 26)>\n",
      "<Node kind=\"\"\", start_point=(3, 45), end_point=(3, 46)>\n",
      "<Node kind=identifier, start_point=(3, 51), end_point=(3, 66)>\n",
      "<Node kind=\".\", start_point=(3, 66), end_point=(3, 67)>\n",
      "<Node kind=identifier, start_point=(3, 67), end_point=(3, 70)>\n",
      "<Node kind=identifier, start_point=(3, 72), end_point=(3, 83)>\n",
      "<Node kind=\".\", start_point=(3, 83), end_point=(3, 84)>\n",
      "<Node kind=identifier, start_point=(3, 84), end_point=(3, 90)>\n",
      "<Node kind=identifier, start_point=(6, 28), end_point=(6, 33)>\n",
      "<Node kind=\"=\", start_point=(6, 33), end_point=(6, 34)>\n",
      "<Node kind=true, start_point=(6, 34), end_point=(6, 38)>\n",
      "<Node kind=\"(\", start_point=(3, 13), end_point=(3, 14)>\n",
      "<Node kind=\")\", start_point=(3, 14), end_point=(3, 15)>\n",
      "module\n",
      "└── class_definition\n",
      "    ├── :\n",
      "    ├── argument_list\n",
      "    │   ├── (\n",
      "    │   ├── )\n",
      "    │   └── identifier\n",
      "    ├── block\n",
      "    │   ├── function_definition\n",
      "    │   │   ├── :\n",
      "    │   │   ├── block\n",
      "    │   │   │   └── expression_statement\n",
      "    │   │   │       └── call\n",
      "    │   │   │           ├── argument_list\n",
      "    │   │   │           │   ├── (\n",
      "    │   │   │           │   ├── )\n",
      "    │   │   │           │   ├── ,\n",
      "    │   │   │           │   ├── ,\n",
      "    │   │   │           │   ├── ,\n",
      "    │   │   │           │   ├── attribute\n",
      "    │   │   │           │   │   ├── .\n",
      "    │   │   │           │   │   ├── identifier\n",
      "    │   │   │           │   │   └── identifier\n",
      "    │   │   │           │   ├── attribute\n",
      "    │   │   │           │   │   ├── .\n",
      "    │   │   │           │   │   ├── identifier\n",
      "    │   │   │           │   │   └── identifier\n",
      "    │   │   │           │   ├── integer\n",
      "    │   │   │           │   └── string\n",
      "    │   │   │           │       ├── \"\n",
      "    │   │   │           │       └── \"\n",
      "    │   │   │           └── attribute\n",
      "    │   │   │               ├── .\n",
      "    │   │   │               ├── call\n",
      "    │   │   │               │   ├── argument_list\n",
      "    │   │   │               │   │   ├── (\n",
      "    │   │   │               │   │   └── )\n",
      "    │   │   │               │   └── identifier\n",
      "    │   │   │               └── identifier\n",
      "    │   │   ├── def\n",
      "    │   │   ├── identifier\n",
      "    │   │   └── parameters\n",
      "    │   │       ├── (\n",
      "    │   │       ├── )\n",
      "    │   │       └── identifier\n",
      "    │   └── function_definition\n",
      "    │       ├── :\n",
      "    │       ├── block\n",
      "    │       │   └── return_statement\n",
      "    │       │       ├── call\n",
      "    │       │       │   ├── argument_list\n",
      "    │       │       │   │   ├── (\n",
      "    │       │       │   │   ├── )\n",
      "    │       │       │   │   ├── ,\n",
      "    │       │       │   │   ├── ,\n",
      "    │       │       │   │   ├── integer\n",
      "    │       │       │   │   ├── integer\n",
      "    │       │       │   │   └── keyword_argument\n",
      "    │       │       │   │       ├── =\n",
      "    │       │       │   │       ├── identifier\n",
      "    │       │       │   │       └── true\n",
      "    │       │       │   └── identifier\n",
      "    │       │       └── return\n",
      "    │       ├── def\n",
      "    │       ├── identifier\n",
      "    │       └── parameters\n",
      "    │           ├── (\n",
      "    │           ├── )\n",
      "    │           ├── ,\n",
      "    │           ├── identifier\n",
      "    │           └── identifier\n",
      "    ├── class\n",
      "    └── identifier\n",
      "\n"
     ]
    }
   ],
   "source": [
    "from collections import deque\n",
    "\n",
    "todo = deque([tree.root_node])\n",
    "while todo:\n",
    "    node = todo.popleft()\n",
    "    print(node)\n",
    "    # print(node)\n",
    "    # print(tree.root_node)\n",
    "    # print(node.__hash__)\n",
    "    # print(id(tree.root_node))\n",
    "    # print(tree.root_node==node)\n",
    "    if node.child_count:\n",
    "        todo.extend(node.children)\n",
    "        #print(todo)\n",
    "        for i in node.children:\n",
    "            tree_id+=1\n",
    "            node_id_list.append([i,tree_id])\n",
    "            #print([i,tree_id])\n",
    "            temp = [ j for j in range(len(node_id_list))if node_id_list[j][0]==i.parent]\n",
    "            #print(temp)\n",
    "            #print(node_id_list[temp[0]][0])\n",
    "            #print(len(temp)==1)\n",
    "            tree_clone.create_node(tag=i.type,identifier=tree_id,data=i,parent=node_id_list[temp[0]][1])\n",
    "            \n",
    "tree_clone.show()"
   ]
  },
  {
   "cell_type": "code",
   "execution_count": 7,
   "metadata": {},
   "outputs": [
    {
     "ename": "FileNotFoundError",
     "evalue": "[WinError 2] 系统找不到指定的文件。: 'tree.gv1.png'",
     "output_type": "error",
     "traceback": [
      "\u001b[1;31m---------------------------------------------------------------------------\u001b[0m",
      "\u001b[1;31mFileNotFoundError\u001b[0m                         Traceback (most recent call last)",
      "\u001b[1;32mC:\\Users\\ADMINI~1\\AppData\\Local\\Temp/ipykernel_59112/3603560786.py\u001b[0m in \u001b[0;36m<module>\u001b[1;34m\u001b[0m\n\u001b[0;32m      2\u001b[0m \u001b[0mtree_clone\u001b[0m\u001b[1;33m.\u001b[0m\u001b[0mto_graphviz\u001b[0m\u001b[1;33m(\u001b[0m\u001b[0mfilename\u001b[0m\u001b[1;33m=\u001b[0m\u001b[1;34m'tree.gv'\u001b[0m\u001b[1;33m,\u001b[0m \u001b[0mshape\u001b[0m\u001b[1;33m=\u001b[0m\u001b[1;34m'ellipse'\u001b[0m\u001b[1;33m)\u001b[0m\u001b[1;33m\u001b[0m\u001b[0m\n\u001b[0;32m      3\u001b[0m \u001b[0mos\u001b[0m\u001b[1;33m.\u001b[0m\u001b[0msystem\u001b[0m\u001b[1;33m(\u001b[0m\u001b[1;34m'dot -Tpng tree.gv -o tree.gv1.png'\u001b[0m\u001b[1;33m)\u001b[0m\u001b[1;33m\u001b[0m\u001b[0m\n\u001b[1;32m----> 4\u001b[1;33m \u001b[0mos\u001b[0m\u001b[1;33m.\u001b[0m\u001b[0mstartfile\u001b[0m\u001b[1;33m(\u001b[0m\u001b[1;34m'tree.gv1.png'\u001b[0m\u001b[1;33m)\u001b[0m\u001b[1;33m\u001b[0m\u001b[0m\n\u001b[0m",
      "\u001b[1;31mFileNotFoundError\u001b[0m: [WinError 2] 系统找不到指定的文件。: 'tree.gv1.png'"
     ]
    }
   ],
   "source": [
    "import os\n",
    "tree_clone.to_graphviz(filename='tree.gv', shape='ellipse')\n",
    "os.system('dot -Tpng tree.gv -o tree.gv1.png')\n",
    "os.startfile('tree.gv1.png')\n"
   ]
  },
  {
   "cell_type": "code",
   "execution_count": 38,
   "metadata": {},
   "outputs": [
    {
     "name": "stdout",
     "output_type": "stream",
     "text": [
      "[<Node kind=module, start_point=(1, 0), end_point=(3, 13)>, <Node kind=function_definition, start_point=(1, 0), end_point=(3, 13)>, <Node kind=\"def\", start_point=(1, 0), end_point=(1, 3)>, <Node kind=identifier, start_point=(1, 4), end_point=(1, 7)>, <Node kind=parameters, start_point=(1, 7), end_point=(1, 9)>, <Node kind=\"(\", start_point=(1, 7), end_point=(1, 8)>, <Node kind=\")\", start_point=(1, 8), end_point=(1, 9)>, <Node kind=\":\", start_point=(1, 9), end_point=(1, 10)>, <Node kind=block, start_point=(2, 4), end_point=(3, 13)>, <Node kind=if_statement, start_point=(2, 4), end_point=(3, 13)>, <Node kind=\"if\", start_point=(2, 4), end_point=(2, 6)>, <Node kind=identifier, start_point=(2, 7), end_point=(2, 10)>, <Node kind=\":\", start_point=(2, 10), end_point=(2, 11)>, <Node kind=block, start_point=(3, 8), end_point=(3, 13)>, <Node kind=expression_statement, start_point=(3, 8), end_point=(3, 13)>, <Node kind=call, start_point=(3, 8), end_point=(3, 13)>, <Node kind=identifier, start_point=(3, 8), end_point=(3, 11)>, <Node kind=argument_list, start_point=(3, 11), end_point=(3, 13)>, <Node kind=\"(\", start_point=(3, 11), end_point=(3, 12)>, <Node kind=\")\", start_point=(3, 12), end_point=(3, 13)>]\n"
     ]
    }
   ],
   "source": [
    "def make_move(cursor, move, all_nodes):\n",
    "    # 递归遍历该树，把每个节点的信息保存起来，包括结点的类型、涉及范围的代码行起始位置、终止位置。\n",
    "    # cursor: 即当前光标的位置（即节点的位置），通过cursor.node即可获取当前节点\n",
    "    # move: 把move参数作为当前节点的移动方向\n",
    "    # all_nodes: 保存节点信息的列表 （保存的是前序遍历的结果：根左右）\n",
    "\n",
    "    if (move == \"down\"):\n",
    "        all_nodes.append(cursor.node)\n",
    "        if (cursor.goto_first_child()):\n",
    "            make_move(cursor, \"down\", all_nodes)\n",
    "        elif (cursor.goto_next_sibling()):\n",
    "            make_move(cursor, \"right\", all_nodes)\n",
    "        elif (cursor.goto_parent()):\n",
    "            make_move(cursor, \"up\", all_nodes)\n",
    "    elif (move == \"right\"):\n",
    "        all_nodes.append(cursor.node)\n",
    "        if (cursor.goto_first_child()):\n",
    "            make_move(cursor, \"down\", all_nodes)\n",
    "        elif (cursor.goto_next_sibling()):\n",
    "            make_move(cursor, \"right\", all_nodes)\n",
    "        elif (cursor.goto_parent()):\n",
    "            make_move(cursor, \"up\", all_nodes)\n",
    "    elif move == \"up\":\n",
    "        if (cursor.goto_next_sibling()):\n",
    "            make_move(cursor, \"right\", all_nodes)\n",
    "        elif (cursor.goto_parent()):\n",
    "            make_move(cursor, \"up\", all_nodes)\n",
    "\n",
    "cursor = tree.walk()\n",
    "all_nodes = []\n",
    "make_move(cursor, \"down\", all_nodes)\n",
    "print(all_nodes)\n"
   ]
  }
 ],
 "metadata": {
  "interpreter": {
   "hash": "c060bcafde9023306063864199dc8006de07296567b68d4319d4ea5dcf1516ac"
  },
  "kernelspec": {
   "display_name": "Python 3.7.0 64-bit ('infer': conda)",
   "name": "python3"
  },
  "language_info": {
   "codemirror_mode": {
    "name": "ipython",
    "version": 3
   },
   "file_extension": ".py",
   "mimetype": "text/x-python",
   "name": "python",
   "nbconvert_exporter": "python",
   "pygments_lexer": "ipython3",
   "version": "3.7.0"
  },
  "orig_nbformat": 4
 },
 "nbformat": 4,
 "nbformat_minor": 2
}
